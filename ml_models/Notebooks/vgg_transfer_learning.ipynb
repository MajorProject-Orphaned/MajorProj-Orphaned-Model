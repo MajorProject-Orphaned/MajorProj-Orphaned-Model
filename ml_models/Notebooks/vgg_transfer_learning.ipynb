{
  "nbformat": 4,
  "nbformat_minor": 0,
  "metadata": {
    "colab": {
      "provenance": []
    },
    "kernelspec": {
      "name": "python3",
      "display_name": "Python 3"
    },
    "language_info": {
      "name": "python"
    },
    "accelerator": "GPU",
    "gpuClass": "standard"
  },
  "cells": [
    {
      "cell_type": "code",
      "execution_count": 1,
      "metadata": {
        "colab": {
          "base_uri": "https://localhost:8080/"
        },
        "id": "BOQcVOODq5fl",
        "outputId": "722abf28-9ac6-42f7-ea03-6d3bafedcef8"
      },
      "outputs": [
        {
          "output_type": "stream",
          "name": "stdout",
          "text": [
            "Looking in indexes: https://pypi.org/simple, https://us-python.pkg.dev/colab-wheels/public/simple/\n",
            "Collecting keras_vggface\n",
            "  Downloading keras_vggface-0.6-py3-none-any.whl (8.3 kB)\n",
            "Collecting keras_applications\n",
            "  Downloading Keras_Applications-1.0.8-py3-none-any.whl (50 kB)\n",
            "\u001b[2K     \u001b[90m━━━━━━━━━━━━━━━━━━━━━━━━━━━━━━━━━━━━━━━━\u001b[0m \u001b[32m50.7/50.7 kB\u001b[0m \u001b[31m6.9 MB/s\u001b[0m eta \u001b[36m0:00:00\u001b[0m\n",
            "\u001b[?25hCollecting mtcnn\n",
            "  Downloading mtcnn-0.1.1-py3-none-any.whl (2.3 MB)\n",
            "\u001b[2K     \u001b[90m━━━━━━━━━━━━━━━━━━━━━━━━━━━━━━━━━━━━━━━━\u001b[0m \u001b[32m2.3/2.3 MB\u001b[0m \u001b[31m55.4 MB/s\u001b[0m eta \u001b[36m0:00:00\u001b[0m\n",
            "\u001b[?25hRequirement already satisfied: pillow in /usr/local/lib/python3.9/dist-packages (from keras_vggface) (8.4.0)\n",
            "Requirement already satisfied: six>=1.9.0 in /usr/local/lib/python3.9/dist-packages (from keras_vggface) (1.16.0)\n",
            "Requirement already satisfied: numpy>=1.9.1 in /usr/local/lib/python3.9/dist-packages (from keras_vggface) (1.22.4)\n",
            "Requirement already satisfied: keras in /usr/local/lib/python3.9/dist-packages (from keras_vggface) (2.12.0)\n",
            "Requirement already satisfied: scipy>=0.14 in /usr/local/lib/python3.9/dist-packages (from keras_vggface) (1.10.1)\n",
            "Requirement already satisfied: pyyaml in /usr/local/lib/python3.9/dist-packages (from keras_vggface) (6.0)\n",
            "Requirement already satisfied: h5py in /usr/local/lib/python3.9/dist-packages (from keras_vggface) (3.8.0)\n",
            "Requirement already satisfied: opencv-python>=4.1.0 in /usr/local/lib/python3.9/dist-packages (from mtcnn) (4.7.0.72)\n",
            "Installing collected packages: mtcnn, keras_vggface, keras_applications\n",
            "Successfully installed keras_applications-1.0.8 keras_vggface-0.6 mtcnn-0.1.1\n"
          ]
        }
      ],
      "source": [
        "!pip install keras_vggface keras_applications mtcnn"
      ]
    },
    {
      "cell_type": "code",
      "source": [
        "import os\n",
        "img_folder_path = 'drive/MyDrive/FGNET/images'\n",
        "os.listdir('drive/MyDrive/FGNET/images')"
      ],
      "metadata": {
        "colab": {
          "base_uri": "https://localhost:8080/"
        },
        "id": "IkKgsfZurfS-",
        "outputId": "3dc675e1-def6-4543-96f3-c53414643bf1"
      },
      "execution_count": 2,
      "outputs": [
        {
          "output_type": "execute_result",
          "data": {
            "text/plain": [
              "['006',\n",
              " '001',\n",
              " '010',\n",
              " '002',\n",
              " '004',\n",
              " '008',\n",
              " '007',\n",
              " '009',\n",
              " '003',\n",
              " '005',\n",
              " '015',\n",
              " '017',\n",
              " '012',\n",
              " '011',\n",
              " '016',\n",
              " '018',\n",
              " '013',\n",
              " '020',\n",
              " '019',\n",
              " '014',\n",
              " '024',\n",
              " '030',\n",
              " '028',\n",
              " '029',\n",
              " '027',\n",
              " '022',\n",
              " '021',\n",
              " '025',\n",
              " '026',\n",
              " '023',\n",
              " '035',\n",
              " '031',\n",
              " '038',\n",
              " '036',\n",
              " '037',\n",
              " '040',\n",
              " '033',\n",
              " '034',\n",
              " '032',\n",
              " '039',\n",
              " '042',\n",
              " '046',\n",
              " '045',\n",
              " '041',\n",
              " '047',\n",
              " '043',\n",
              " '050',\n",
              " '044',\n",
              " '049',\n",
              " '048',\n",
              " '058',\n",
              " '055',\n",
              " '059',\n",
              " '060',\n",
              " '051',\n",
              " '056',\n",
              " '054',\n",
              " '053',\n",
              " '052',\n",
              " '057',\n",
              " '062',\n",
              " '069',\n",
              " '068',\n",
              " '070',\n",
              " '066',\n",
              " '063',\n",
              " '064',\n",
              " '067',\n",
              " '065',\n",
              " '061',\n",
              " '078',\n",
              " '075',\n",
              " '071',\n",
              " '077',\n",
              " '080',\n",
              " '076',\n",
              " '072',\n",
              " '074',\n",
              " '079',\n",
              " '073',\n",
              " '082',\n",
              " '081']"
            ]
          },
          "metadata": {},
          "execution_count": 2
        }
      ]
    },
    {
      "cell_type": "code",
      "source": [
        "import cv2 \n",
        "import numpy as np\n",
        "from matplotlib import pyplot as plt\n",
        "from PIL import Image\n",
        "from numpy import asarray\n",
        "import sys"
      ],
      "metadata": {
        "id": "CsMMR0aLuDVw"
      },
      "execution_count": 3,
      "outputs": []
    },
    {
      "cell_type": "code",
      "source": [],
      "metadata": {
        "id": "uQ0yj0_3Pves"
      },
      "execution_count": 4,
      "outputs": []
    },
    {
      "cell_type": "code",
      "source": [],
      "metadata": {
        "id": "mf1FL67QPepj"
      },
      "execution_count": null,
      "outputs": []
    },
    {
      "cell_type": "code",
      "source": [],
      "metadata": {
        "id": "yBVHPDFpPebA"
      },
      "execution_count": null,
      "outputs": []
    },
    {
      "cell_type": "code",
      "source": [],
      "metadata": {
        "id": "U3fmi_dtPeNi"
      },
      "execution_count": null,
      "outputs": []
    },
    {
      "cell_type": "markdown",
      "source": [
        "# Build model"
      ],
      "metadata": {
        "id": "F8w2lTT2uHUd"
      }
    },
    {
      "cell_type": "code",
      "source": [
        "import os\n",
        "import pandas as pd\n",
        "import numpy as np\n",
        "import tensorflow.keras as keras\n",
        "import matplotlib.pyplot as plt\n",
        "\n",
        "from tensorflow.keras.layers import Dense, GlobalAveragePooling2D\n",
        "\n",
        "from tensorflow.keras.preprocessing import image\n",
        "from tensorflow.keras.applications.mobilenet import preprocess_input\n",
        "\n",
        "from tensorflow.keras.preprocessing.image import ImageDataGenerator\n",
        "\n",
        "from tensorflow.keras.models import Model\n",
        "\n",
        "from tensorflow.keras.optimizers import Adam"
      ],
      "metadata": {
        "id": "Poj2wcn6uDiH"
      },
      "execution_count": 6,
      "outputs": []
    },
    {
      "cell_type": "code",
      "source": [],
      "metadata": {
        "id": "JgMNv0ouP39W"
      },
      "execution_count": null,
      "outputs": []
    },
    {
      "cell_type": "code",
      "source": [
        "train_datagen = ImageDataGenerator(\n",
        "    preprocessing_function=preprocess_input)\n",
        "\n",
        "train_generator = \\\n",
        "    train_datagen.flow_from_directory(\n",
        "img_folder_path,\n",
        "target_size=(224,224),\n",
        "color_mode='rgb',\n",
        "batch_size=32,\n",
        "class_mode='categorical',\n",
        "shuffle=True)"
      ],
      "metadata": {
        "colab": {
          "base_uri": "https://localhost:8080/"
        },
        "id": "sperahpAP5NS",
        "outputId": "4544d621-f822-4caa-af59-2fb089117008"
      },
      "execution_count": 12,
      "outputs": [
        {
          "output_type": "stream",
          "name": "stdout",
          "text": [
            "Found 1002 images belonging to 82 classes.\n"
          ]
        }
      ]
    },
    {
      "cell_type": "code",
      "source": [
        "train_generator.class_indices.values()\n",
        "# dict_values([0, 1, 2])\n",
        "NO_CLASSES = len(train_generator.class_indices.values())\n",
        "NO_CLASSES"
      ],
      "metadata": {
        "colab": {
          "base_uri": "https://localhost:8080/"
        },
        "id": "jh8sEd9GP5KY",
        "outputId": "63ead57d-bac6-46cf-c5e8-647150cb2a5b"
      },
      "execution_count": 8,
      "outputs": [
        {
          "output_type": "execute_result",
          "data": {
            "text/plain": [
              "82"
            ]
          },
          "metadata": {},
          "execution_count": 8
        }
      ]
    },
    {
      "cell_type": "code",
      "source": [],
      "metadata": {
        "id": "DVYOTAUlP5HJ"
      },
      "execution_count": null,
      "outputs": []
    },
    {
      "cell_type": "code",
      "source": [],
      "metadata": {
        "id": "9q0xaRLOP5FT"
      },
      "execution_count": null,
      "outputs": []
    },
    {
      "cell_type": "code",
      "source": [
        "filename = \"/usr/local/lib/python3.9/dist-packages/keras_vggface/models.py\"\n",
        "text = open(filename).read()\n",
        "open(filename, \"w+\").write(text.replace('keras.engine.topology', 'tensorflow.keras.utils'))\n",
        "\n",
        "from keras_vggface.vggface import VGGFace\n",
        "\n",
        "base_model = VGGFace(include_top=True,\n",
        "    model='vgg16',\n",
        "    input_shape=(224, 224, 3))\n",
        "base_model.summary()\n",
        "\n",
        "print(len(base_model.layers))\n",
        "# 26 layers in the original VGG-Face"
      ],
      "metadata": {
        "colab": {
          "base_uri": "https://localhost:8080/"
        },
        "id": "xECD0Mi_uDkp",
        "outputId": "18d0bc5c-9973-4876-da35-9aa333760595"
      },
      "execution_count": 11,
      "outputs": [
        {
          "output_type": "stream",
          "name": "stdout",
          "text": [
            "Downloading data from https://github.com/rcmalli/keras-vggface/releases/download/v2.0/rcmalli_vggface_tf_vgg16.h5\n",
            "580070376/580070376 [==============================] - 20s 0us/step\n",
            "Model: \"vggface_vgg16\"\n",
            "_________________________________________________________________\n",
            " Layer (type)                Output Shape              Param #   \n",
            "=================================================================\n",
            " input_4 (InputLayer)        [(None, 224, 224, 3)]     0         \n",
            "                                                                 \n",
            " conv1_1 (Conv2D)            (None, 224, 224, 64)      1792      \n",
            "                                                                 \n",
            " conv1_2 (Conv2D)            (None, 224, 224, 64)      36928     \n",
            "                                                                 \n",
            " pool1 (MaxPooling2D)        (None, 112, 112, 64)      0         \n",
            "                                                                 \n",
            " conv2_1 (Conv2D)            (None, 112, 112, 128)     73856     \n",
            "                                                                 \n",
            " conv2_2 (Conv2D)            (None, 112, 112, 128)     147584    \n",
            "                                                                 \n",
            " pool2 (MaxPooling2D)        (None, 56, 56, 128)       0         \n",
            "                                                                 \n",
            " conv3_1 (Conv2D)            (None, 56, 56, 256)       295168    \n",
            "                                                                 \n",
            " conv3_2 (Conv2D)            (None, 56, 56, 256)       590080    \n",
            "                                                                 \n",
            " conv3_3 (Conv2D)            (None, 56, 56, 256)       590080    \n",
            "                                                                 \n",
            " pool3 (MaxPooling2D)        (None, 28, 28, 256)       0         \n",
            "                                                                 \n",
            " conv4_1 (Conv2D)            (None, 28, 28, 512)       1180160   \n",
            "                                                                 \n",
            " conv4_2 (Conv2D)            (None, 28, 28, 512)       2359808   \n",
            "                                                                 \n",
            " conv4_3 (Conv2D)            (None, 28, 28, 512)       2359808   \n",
            "                                                                 \n",
            " pool4 (MaxPooling2D)        (None, 14, 14, 512)       0         \n",
            "                                                                 \n",
            " conv5_1 (Conv2D)            (None, 14, 14, 512)       2359808   \n",
            "                                                                 \n",
            " conv5_2 (Conv2D)            (None, 14, 14, 512)       2359808   \n",
            "                                                                 \n",
            " conv5_3 (Conv2D)            (None, 14, 14, 512)       2359808   \n",
            "                                                                 \n",
            " pool5 (MaxPooling2D)        (None, 7, 7, 512)         0         \n",
            "                                                                 \n",
            " flatten (Flatten)           (None, 25088)             0         \n",
            "                                                                 \n",
            " fc6 (Dense)                 (None, 4096)              102764544 \n",
            "                                                                 \n",
            " fc6/relu (Activation)       (None, 4096)              0         \n",
            "                                                                 \n",
            " fc7 (Dense)                 (None, 4096)              16781312  \n",
            "                                                                 \n",
            " fc7/relu (Activation)       (None, 4096)              0         \n",
            "                                                                 \n",
            " fc8 (Dense)                 (None, 2622)              10742334  \n",
            "                                                                 \n",
            " fc8/softmax (Activation)    (None, 2622)              0         \n",
            "                                                                 \n",
            "=================================================================\n",
            "Total params: 145,002,878\n",
            "Trainable params: 145,002,878\n",
            "Non-trainable params: 0\n",
            "_________________________________________________________________\n",
            "26\n"
          ]
        }
      ]
    },
    {
      "cell_type": "code",
      "source": [
        "base_model = VGGFace(include_top=False,\n",
        "model='vgg16',\n",
        "input_shape=(224, 224, 3))\n",
        "base_model.summary()\n",
        "print(len(base_model.layers))\n",
        "# 19 layers after excluding the last few layers"
      ],
      "metadata": {
        "colab": {
          "base_uri": "https://localhost:8080/"
        },
        "id": "zYASZaukufkc",
        "outputId": "4a874c5e-58e5-432d-8d6a-f627fea2d8cf"
      },
      "execution_count": null,
      "outputs": [
        {
          "output_type": "stream",
          "name": "stdout",
          "text": [
            "Downloading data from https://github.com/rcmalli/keras-vggface/releases/download/v2.0/rcmalli_vggface_tf_notop_vgg16.h5\n",
            "58909280/58909280 [==============================] - 2s 0us/step\n",
            "Model: \"vggface_vgg16\"\n",
            "_________________________________________________________________\n",
            " Layer (type)                Output Shape              Param #   \n",
            "=================================================================\n",
            " input_5 (InputLayer)        [(None, 224, 224, 3)]     0         \n",
            "                                                                 \n",
            " conv1_1 (Conv2D)            (None, 224, 224, 64)      1792      \n",
            "                                                                 \n",
            " conv1_2 (Conv2D)            (None, 224, 224, 64)      36928     \n",
            "                                                                 \n",
            " pool1 (MaxPooling2D)        (None, 112, 112, 64)      0         \n",
            "                                                                 \n",
            " conv2_1 (Conv2D)            (None, 112, 112, 128)     73856     \n",
            "                                                                 \n",
            " conv2_2 (Conv2D)            (None, 112, 112, 128)     147584    \n",
            "                                                                 \n",
            " pool2 (MaxPooling2D)        (None, 56, 56, 128)       0         \n",
            "                                                                 \n",
            " conv3_1 (Conv2D)            (None, 56, 56, 256)       295168    \n",
            "                                                                 \n",
            " conv3_2 (Conv2D)            (None, 56, 56, 256)       590080    \n",
            "                                                                 \n",
            " conv3_3 (Conv2D)            (None, 56, 56, 256)       590080    \n",
            "                                                                 \n",
            " pool3 (MaxPooling2D)        (None, 28, 28, 256)       0         \n",
            "                                                                 \n",
            " conv4_1 (Conv2D)            (None, 28, 28, 512)       1180160   \n",
            "                                                                 \n",
            " conv4_2 (Conv2D)            (None, 28, 28, 512)       2359808   \n",
            "                                                                 \n",
            " conv4_3 (Conv2D)            (None, 28, 28, 512)       2359808   \n",
            "                                                                 \n",
            " pool4 (MaxPooling2D)        (None, 14, 14, 512)       0         \n",
            "                                                                 \n",
            " conv5_1 (Conv2D)            (None, 14, 14, 512)       2359808   \n",
            "                                                                 \n",
            " conv5_2 (Conv2D)            (None, 14, 14, 512)       2359808   \n",
            "                                                                 \n",
            " conv5_3 (Conv2D)            (None, 14, 14, 512)       2359808   \n",
            "                                                                 \n",
            " pool5 (MaxPooling2D)        (None, 7, 7, 512)         0         \n",
            "                                                                 \n",
            "=================================================================\n",
            "Total params: 14,714,688\n",
            "Trainable params: 14,714,688\n",
            "Non-trainable params: 0\n",
            "_________________________________________________________________\n",
            "19\n"
          ]
        }
      ]
    },
    {
      "cell_type": "code",
      "source": [],
      "metadata": {
        "id": "6sURu5hsPboX"
      },
      "execution_count": null,
      "outputs": []
    },
    {
      "cell_type": "code",
      "source": [],
      "metadata": {
        "id": "_xR47VcmPbMR"
      },
      "execution_count": null,
      "outputs": []
    },
    {
      "cell_type": "code",
      "source": [],
      "metadata": {
        "id": "O4TxZI-ZPa66"
      },
      "execution_count": null,
      "outputs": []
    },
    {
      "cell_type": "code",
      "source": [
        "x = base_model.output\n",
        "x = Dense(1024, activation='relu')(x)\n",
        "x = Dense(1024, activation='relu')(x)\n",
        "x = Dense(512, activation='relu')(x)\n",
        "\n",
        "# final layer with softmax activation\n",
        "x = Dense(NO_CLASSES, activation='softmax')(x)\n",
        "transfer_model = Model(inputs = base_model.input, outputs = x)"
      ],
      "metadata": {
        "id": "99Z-N5kpvEsX"
      },
      "execution_count": 14,
      "outputs": []
    },
    {
      "cell_type": "code",
      "source": [
        "print(transfer_model.summary())\n",
        "print(len(transfer_model.layers))\n"
      ],
      "metadata": {
        "id": "UUjhg5YIvQkd",
        "colab": {
          "base_uri": "https://localhost:8080/"
        },
        "outputId": "32739413-4771-4701-d1a2-b681fe8439ad"
      },
      "execution_count": 15,
      "outputs": [
        {
          "output_type": "stream",
          "name": "stdout",
          "text": [
            "Model: \"model_3\"\n",
            "_________________________________________________________________\n",
            " Layer (type)                Output Shape              Param #   \n",
            "=================================================================\n",
            " input_4 (InputLayer)        [(None, 224, 224, 3)]     0         \n",
            "                                                                 \n",
            " conv1_1 (Conv2D)            (None, 224, 224, 64)      1792      \n",
            "                                                                 \n",
            " conv1_2 (Conv2D)            (None, 224, 224, 64)      36928     \n",
            "                                                                 \n",
            " pool1 (MaxPooling2D)        (None, 112, 112, 64)      0         \n",
            "                                                                 \n",
            " conv2_1 (Conv2D)            (None, 112, 112, 128)     73856     \n",
            "                                                                 \n",
            " conv2_2 (Conv2D)            (None, 112, 112, 128)     147584    \n",
            "                                                                 \n",
            " pool2 (MaxPooling2D)        (None, 56, 56, 128)       0         \n",
            "                                                                 \n",
            " conv3_1 (Conv2D)            (None, 56, 56, 256)       295168    \n",
            "                                                                 \n",
            " conv3_2 (Conv2D)            (None, 56, 56, 256)       590080    \n",
            "                                                                 \n",
            " conv3_3 (Conv2D)            (None, 56, 56, 256)       590080    \n",
            "                                                                 \n",
            " pool3 (MaxPooling2D)        (None, 28, 28, 256)       0         \n",
            "                                                                 \n",
            " conv4_1 (Conv2D)            (None, 28, 28, 512)       1180160   \n",
            "                                                                 \n",
            " conv4_2 (Conv2D)            (None, 28, 28, 512)       2359808   \n",
            "                                                                 \n",
            " conv4_3 (Conv2D)            (None, 28, 28, 512)       2359808   \n",
            "                                                                 \n",
            " pool4 (MaxPooling2D)        (None, 14, 14, 512)       0         \n",
            "                                                                 \n",
            " conv5_1 (Conv2D)            (None, 14, 14, 512)       2359808   \n",
            "                                                                 \n",
            " conv5_2 (Conv2D)            (None, 14, 14, 512)       2359808   \n",
            "                                                                 \n",
            " conv5_3 (Conv2D)            (None, 14, 14, 512)       2359808   \n",
            "                                                                 \n",
            " pool5 (MaxPooling2D)        (None, 7, 7, 512)         0         \n",
            "                                                                 \n",
            " flatten (Flatten)           (None, 25088)             0         \n",
            "                                                                 \n",
            " fc6 (Dense)                 (None, 4096)              102764544 \n",
            "                                                                 \n",
            " fc6/relu (Activation)       (None, 4096)              0         \n",
            "                                                                 \n",
            " fc7 (Dense)                 (None, 4096)              16781312  \n",
            "                                                                 \n",
            " fc7/relu (Activation)       (None, 4096)              0         \n",
            "                                                                 \n",
            " fc8 (Dense)                 (None, 2622)              10742334  \n",
            "                                                                 \n",
            " fc8/softmax (Activation)    (None, 2622)              0         \n",
            "                                                                 \n",
            " dense_7 (Dense)             (None, 1024)              2685952   \n",
            "                                                                 \n",
            " dense_8 (Dense)             (None, 1024)              1049600   \n",
            "                                                                 \n",
            " dense_9 (Dense)             (None, 512)               524800    \n",
            "                                                                 \n",
            " dense_10 (Dense)            (None, 82)                42066     \n",
            "                                                                 \n",
            "=================================================================\n",
            "Total params: 149,305,296\n",
            "Trainable params: 149,305,296\n",
            "Non-trainable params: 0\n",
            "_________________________________________________________________\n",
            "None\n",
            "30\n"
          ]
        }
      ]
    },
    {
      "cell_type": "code",
      "source": [
        "# don't train the first 19 layers - 0..18\n",
        "for layer in transfer_model.layers[:19]:\n",
        "    layer.trainable = False\n",
        "\n",
        "# train the rest of the layers - 19 onwards\n",
        "for layer in transfer_model.layers[19:]:\n",
        "    layer.trainable = True\n"
      ],
      "metadata": {
        "id": "kJuNR2lcQpzq"
      },
      "execution_count": 16,
      "outputs": []
    },
    {
      "cell_type": "code",
      "source": [
        "transfer_model.compile(optimizer='Adam',\n",
        "    loss='categorical_crossentropy')\n"
      ],
      "metadata": {
        "id": "u4RsCzvvU9lK"
      },
      "execution_count": 24,
      "outputs": []
    },
    {
      "cell_type": "code",
      "source": [
        "transfer_model.fit(train_generator,\n",
        "  batch_size = 1,\n",
        "  verbose = 1,\n",
        "  epochs = 100)"
      ],
      "metadata": {
        "colab": {
          "base_uri": "https://localhost:8080/"
        },
        "id": "73arMGljVHZ5",
        "outputId": "8ab93311-a169-4e7d-f914-1b07e9d0df1b"
      },
      "execution_count": 25,
      "outputs": [
        {
          "output_type": "stream",
          "name": "stdout",
          "text": [
            "Epoch 1/100\n",
            "32/32 [==============================] - 32s 921ms/step - loss: 4.3874\n",
            "Epoch 2/100\n",
            "32/32 [==============================] - 7s 204ms/step - loss: 4.3848\n",
            "Epoch 3/100\n",
            "32/32 [==============================] - 6s 195ms/step - loss: 4.3851\n",
            "Epoch 4/100\n",
            "32/32 [==============================] - 7s 226ms/step - loss: 4.3854\n",
            "Epoch 5/100\n",
            "32/32 [==============================] - 7s 215ms/step - loss: 4.3849\n",
            "Epoch 6/100\n",
            "32/32 [==============================] - 7s 203ms/step - loss: 4.3849\n",
            "Epoch 7/100\n",
            "32/32 [==============================] - 6s 187ms/step - loss: 4.3849\n",
            "Epoch 8/100\n",
            "32/32 [==============================] - 7s 214ms/step - loss: 4.3848\n",
            "Epoch 9/100\n",
            "32/32 [==============================] - 7s 204ms/step - loss: 4.3847\n",
            "Epoch 10/100\n",
            "32/32 [==============================] - 7s 213ms/step - loss: 4.3845\n",
            "Epoch 11/100\n",
            "32/32 [==============================] - 6s 185ms/step - loss: 4.3847\n",
            "Epoch 12/100\n",
            "32/32 [==============================] - 7s 216ms/step - loss: 4.3844\n",
            "Epoch 13/100\n",
            "32/32 [==============================] - 7s 198ms/step - loss: 4.3846\n",
            "Epoch 14/100\n",
            "32/32 [==============================] - 8s 260ms/step - loss: 4.3845\n",
            "Epoch 15/100\n",
            "32/32 [==============================] - 6s 189ms/step - loss: 4.3846\n",
            "Epoch 16/100\n",
            "32/32 [==============================] - 7s 223ms/step - loss: 4.3844\n",
            "Epoch 17/100\n",
            "32/32 [==============================] - 7s 202ms/step - loss: 4.3845\n",
            "Epoch 18/100\n",
            "32/32 [==============================] - 7s 217ms/step - loss: 4.3843\n",
            "Epoch 19/100\n",
            "32/32 [==============================] - 6s 186ms/step - loss: 4.3844\n",
            "Epoch 20/100\n",
            "32/32 [==============================] - 7s 218ms/step - loss: 4.3844\n",
            "Epoch 21/100\n",
            "32/32 [==============================] - 6s 189ms/step - loss: 4.3847\n",
            "Epoch 22/100\n",
            "32/32 [==============================] - 7s 217ms/step - loss: 4.3843\n",
            "Epoch 23/100\n",
            "32/32 [==============================] - 6s 187ms/step - loss: 4.3848\n",
            "Epoch 24/100\n",
            "32/32 [==============================] - 7s 211ms/step - loss: 4.3848\n",
            "Epoch 25/100\n",
            "32/32 [==============================] - 7s 198ms/step - loss: 4.3844\n",
            "Epoch 26/100\n",
            "32/32 [==============================] - 7s 210ms/step - loss: 4.3841\n",
            "Epoch 27/100\n",
            "32/32 [==============================] - 7s 220ms/step - loss: 4.3843\n",
            "Epoch 28/100\n",
            "32/32 [==============================] - 6s 191ms/step - loss: 4.3843\n",
            "Epoch 29/100\n",
            "32/32 [==============================] - 7s 221ms/step - loss: 4.3842\n",
            "Epoch 30/100\n",
            "32/32 [==============================] - 6s 185ms/step - loss: 4.3842\n",
            "Epoch 31/100\n",
            "32/32 [==============================] - 7s 215ms/step - loss: 4.3838\n",
            "Epoch 32/100\n",
            "32/32 [==============================] - 6s 187ms/step - loss: 4.3846\n",
            "Epoch 33/100\n",
            "32/32 [==============================] - 7s 220ms/step - loss: 4.3838\n",
            "Epoch 34/100\n",
            "32/32 [==============================] - 6s 188ms/step - loss: 4.3838\n",
            "Epoch 35/100\n",
            "32/32 [==============================] - 8s 255ms/step - loss: 4.3845\n",
            "Epoch 36/100\n",
            "32/32 [==============================] - 7s 203ms/step - loss: 4.3840\n",
            "Epoch 37/100\n",
            "32/32 [==============================] - 8s 228ms/step - loss: 4.3840\n",
            "Epoch 38/100\n",
            "32/32 [==============================] - 6s 191ms/step - loss: 4.3845\n",
            "Epoch 39/100\n",
            "32/32 [==============================] - 7s 213ms/step - loss: 4.3839\n",
            "Epoch 40/100\n",
            "32/32 [==============================] - 6s 187ms/step - loss: 4.3838\n",
            "Epoch 41/100\n",
            "32/32 [==============================] - 7s 215ms/step - loss: 4.3839\n",
            "Epoch 42/100\n",
            "32/32 [==============================] - 6s 189ms/step - loss: 4.3841\n",
            "Epoch 43/100\n",
            "32/32 [==============================] - 7s 216ms/step - loss: 4.3838\n",
            "Epoch 44/100\n",
            "32/32 [==============================] - 6s 188ms/step - loss: 4.3839\n",
            "Epoch 45/100\n",
            "32/32 [==============================] - 6s 195ms/step - loss: 4.3837\n",
            "Epoch 46/100\n",
            "32/32 [==============================] - 6s 196ms/step - loss: 4.3838\n",
            "Epoch 47/100\n",
            "32/32 [==============================] - 6s 186ms/step - loss: 4.3841\n",
            "Epoch 48/100\n",
            "32/32 [==============================] - 7s 224ms/step - loss: 4.3841\n",
            "Epoch 49/100\n",
            "32/32 [==============================] - 6s 186ms/step - loss: 4.3839\n",
            "Epoch 50/100\n",
            "32/32 [==============================] - 7s 227ms/step - loss: 4.3836\n",
            "Epoch 51/100\n",
            "32/32 [==============================] - 6s 197ms/step - loss: 4.3839\n",
            "Epoch 52/100\n",
            "32/32 [==============================] - 7s 216ms/step - loss: 4.3840\n",
            "Epoch 53/100\n",
            "32/32 [==============================] - 6s 190ms/step - loss: 4.3838\n",
            "Epoch 54/100\n",
            "32/32 [==============================] - 7s 217ms/step - loss: 4.3838\n",
            "Epoch 55/100\n",
            "32/32 [==============================] - 6s 188ms/step - loss: 4.3837\n",
            "Epoch 56/100\n",
            "32/32 [==============================] - 7s 216ms/step - loss: 4.3838\n",
            "Epoch 57/100\n",
            "32/32 [==============================] - 6s 188ms/step - loss: 4.3838\n",
            "Epoch 58/100\n",
            "32/32 [==============================] - 7s 204ms/step - loss: 4.3852\n",
            "Epoch 59/100\n",
            "32/32 [==============================] - 6s 190ms/step - loss: 4.3838\n",
            "Epoch 60/100\n",
            "32/32 [==============================] - 7s 219ms/step - loss: 4.3838\n",
            "Epoch 61/100\n",
            "32/32 [==============================] - 6s 188ms/step - loss: 4.3839\n",
            "Epoch 62/100\n",
            "32/32 [==============================] - 7s 215ms/step - loss: 4.3839\n",
            "Epoch 63/100\n",
            "32/32 [==============================] - 7s 201ms/step - loss: 4.3840\n",
            "Epoch 64/100\n",
            "32/32 [==============================] - 6s 187ms/step - loss: 4.3838\n",
            "Epoch 65/100\n",
            "32/32 [==============================] - 7s 223ms/step - loss: 4.3837\n",
            "Epoch 66/100\n",
            "32/32 [==============================] - 6s 187ms/step - loss: 4.3838\n",
            "Epoch 67/100\n",
            "32/32 [==============================] - 7s 218ms/step - loss: 4.3837\n",
            "Epoch 68/100\n",
            "32/32 [==============================] - 6s 189ms/step - loss: 4.3835\n",
            "Epoch 69/100\n",
            "32/32 [==============================] - 7s 220ms/step - loss: 4.3837\n",
            "Epoch 70/100\n",
            "32/32 [==============================] - 6s 192ms/step - loss: 4.3838\n",
            "Epoch 71/100\n",
            "32/32 [==============================] - 7s 213ms/step - loss: 4.3836\n",
            "Epoch 72/100\n",
            "32/32 [==============================] - 6s 187ms/step - loss: 4.3837\n",
            "Epoch 73/100\n",
            "32/32 [==============================] - 7s 210ms/step - loss: 4.3839\n",
            "Epoch 74/100\n",
            "32/32 [==============================] - 6s 187ms/step - loss: 4.3842\n",
            "Epoch 75/100\n",
            "32/32 [==============================] - 7s 213ms/step - loss: 4.3839\n",
            "Epoch 76/100\n",
            "32/32 [==============================] - 6s 190ms/step - loss: 4.3836\n",
            "Epoch 77/100\n",
            "32/32 [==============================] - 7s 218ms/step - loss: 4.3842\n",
            "Epoch 78/100\n",
            "32/32 [==============================] - 6s 187ms/step - loss: 4.3836\n",
            "Epoch 79/100\n",
            "32/32 [==============================] - 7s 213ms/step - loss: 4.3837\n",
            "Epoch 80/100\n",
            "32/32 [==============================] - 6s 189ms/step - loss: 4.3841\n",
            "Epoch 81/100\n",
            "32/32 [==============================] - 7s 215ms/step - loss: 4.3835\n",
            "Epoch 82/100\n",
            "32/32 [==============================] - 6s 188ms/step - loss: 4.3839\n",
            "Epoch 83/100\n",
            "32/32 [==============================] - 7s 215ms/step - loss: 4.3837\n",
            "Epoch 84/100\n",
            "32/32 [==============================] - 6s 187ms/step - loss: 4.3836\n",
            "Epoch 85/100\n",
            "32/32 [==============================] - 6s 186ms/step - loss: 4.3834\n",
            "Epoch 86/100\n",
            "32/32 [==============================] - 7s 216ms/step - loss: 4.3837\n",
            "Epoch 87/100\n",
            "32/32 [==============================] - 6s 188ms/step - loss: 4.3839\n",
            "Epoch 88/100\n",
            "32/32 [==============================] - 7s 215ms/step - loss: 4.3834\n",
            "Epoch 89/100\n",
            "32/32 [==============================] - 6s 186ms/step - loss: 4.3836\n",
            "Epoch 90/100\n",
            "32/32 [==============================] - 7s 215ms/step - loss: 4.3836\n",
            "Epoch 91/100\n",
            "32/32 [==============================] - 6s 187ms/step - loss: 4.3835\n",
            "Epoch 92/100\n",
            "32/32 [==============================] - 7s 215ms/step - loss: 4.3835\n",
            "Epoch 93/100\n",
            "32/32 [==============================] - 6s 191ms/step - loss: 4.3834\n",
            "Epoch 94/100\n",
            "32/32 [==============================] - 7s 213ms/step - loss: 4.3836\n",
            "Epoch 95/100\n",
            "32/32 [==============================] - 6s 188ms/step - loss: 4.3835\n",
            "Epoch 96/100\n",
            "32/32 [==============================] - 7s 214ms/step - loss: 4.3836\n",
            "Epoch 97/100\n",
            "32/32 [==============================] - 6s 188ms/step - loss: 4.3838\n",
            "Epoch 98/100\n",
            "32/32 [==============================] - 7s 212ms/step - loss: 4.3837\n",
            "Epoch 99/100\n",
            "32/32 [==============================] - 6s 190ms/step - loss: 4.3837\n",
            "Epoch 100/100\n",
            "32/32 [==============================] - 7s 205ms/step - loss: 4.3838\n"
          ]
        },
        {
          "output_type": "execute_result",
          "data": {
            "text/plain": [
              "<keras.callbacks.History at 0x7f50b03b4ac0>"
            ]
          },
          "metadata": {},
          "execution_count": 25
        }
      ]
    },
    {
      "cell_type": "code",
      "source": [
        "# creates a HDF5 file\n",
        "transfer_model.save('drive/MyDrive/missing child model/vgg_transfer_learning_model.h5')"
      ],
      "metadata": {
        "id": "kLSL9IXYVrJp"
      },
      "execution_count": 27,
      "outputs": []
    },
    {
      "cell_type": "code",
      "source": [],
      "metadata": {
        "id": "FHFU66tBWFyK"
      },
      "execution_count": null,
      "outputs": []
    },
    {
      "cell_type": "code",
      "source": [],
      "metadata": {
        "id": "0NIk2xGGWHFO"
      },
      "execution_count": null,
      "outputs": []
    },
    {
      "cell_type": "code",
      "source": [],
      "metadata": {
        "id": "0rQ0xtTwXk4u"
      },
      "execution_count": null,
      "outputs": []
    },
    {
      "cell_type": "code",
      "source": [],
      "metadata": {
        "id": "90tITtkKQGNb"
      },
      "execution_count": null,
      "outputs": []
    },
    {
      "cell_type": "code",
      "source": [],
      "metadata": {
        "id": "7JE4IV-VQMQM"
      },
      "execution_count": null,
      "outputs": []
    }
  ]
}